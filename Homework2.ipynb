{
 "cells": [
  {
   "cell_type": "markdown",
   "metadata": {},
   "source": [
    "# Homework 2"
   ]
  },
  {
   "cell_type": "markdown",
   "metadata": {},
   "source": [
    "### Deadline: Nov 06 2022"
   ]
  },
  {
   "cell_type": "markdown",
   "metadata": {},
   "source": [
    "# Naive Root finding (Regula Falsi)"
   ]
  },
  {
   "cell_type": "markdown",
   "metadata": {},
   "source": [
    "Similar to the Bisection algorithm, the False Position Algorithm, also known as Regula Falsi, utilizes a bracketing approach. But unlike the Bisection Algorithm, it does not utilize a brute-force approach of dividing the problem space into half for every iteration. Instead, this algorithm iteratively draws a straight line from f(start) to f(end) and compares the intercept with the target value."
   ]
  },
  {
   "cell_type": "markdown",
   "metadata": {},
   "source": [
    "Write a function for Regula Falsi algorithm to find a rood for a given function $f$."
   ]
  },
  {
   "cell_type": "code",
   "execution_count": 37,
   "metadata": {},
   "outputs": [],
   "source": [
    "f = lambda x:  x**3 + x**2 + 1\n",
    "start = -2\n",
    "end = 2"
   ]
  },
  {
   "cell_type": "code",
   "execution_count": 38,
   "metadata": {},
   "outputs": [
    {
     "data": {
      "text/plain": [
       "-1.465570963592252"
      ]
     },
     "execution_count": 38,
     "metadata": {},
     "output_type": "execute_result"
    }
   ],
   "source": [
    "f = lambda x:  x**3 + x**2 + 1\n",
    "def RegulaFalsi( start, end, f, error = 0.000001 ):\n",
    "    if f(start)*f(end)>0:\n",
    "        assert('wrong input')\n",
    "    c = end - (f(end)*(end - start)/(f(end)-f(start)))\n",
    "    if f( start ) > f( end ):\n",
    "        start, end = end, start\n",
    "    while abs(f(c))>error:\n",
    "        if f(c)*f(start)>0:\n",
    "            start = c\n",
    "            c = end - (f(end)*(end - start)/(f(end)-f(start)))\n",
    "        elif f(c)*f(end)>0:\n",
    "            end = c\n",
    "            c = end - (f(end)*(end - start)/(f(end)-f(start)))\n",
    "        else:\n",
    "            break\n",
    "        \n",
    "    return c\n",
    "\n",
    "RegulaFalsi(-2,2,f)\n"
   ]
  },
  {
   "cell_type": "markdown",
   "metadata": {},
   "source": [
    "# Calculate Riemann Integral"
   ]
  },
  {
   "cell_type": "markdown",
   "metadata": {},
   "source": [
    "The Riemann sum of a real-valued function $f$ on the interval $[a, b]$ is defined as the sum of $f$ with respect to the tagged partition of $[a, b]$. It can be calculated as \n",
    "\n",
    "$ \\int_{a}^{b} f(x) dx = w \\left[ \\frac{1}{2}f( x_0 ) + \\sum_{i=1}^{N-1}f(x_i) + \\frac{1}{2}f( x_N )  \\right] $,\n",
    "\n",
    "where $w$ is the partition size and $x_i$s are the corresponding partition location."
   ]
  },
  {
   "cell_type": "markdown",
   "metadata": {},
   "source": [
    "Implement a function to calculate the riemann sum of a given function $f$"
   ]
  },
  {
   "cell_type": "code",
   "execution_count": 39,
   "metadata": {},
   "outputs": [
    {
     "data": {
      "text/plain": [
       "2.6666626666719893"
      ]
     },
     "execution_count": 39,
     "metadata": {},
     "output_type": "execute_result"
    }
   ],
   "source": [
    "\n",
    "def calculate_integral( f, start, end, n ):\n",
    "    \"\"\"\n",
    "    f is the given function\n",
    "    start is the starting point of the interval\n",
    "    end is the ending point of the interval\n",
    "    start need to be smaller than end\n",
    "    n: number of trpezoids of equal width\n",
    "    \"\"\"\n",
    "    sum_all = 0.0\n",
    "    delta_x = (end -start)/n\n",
    "    x_i = delta_x\n",
    "    for i in range(1,n):\n",
    "        sum_all += f(x_i)*delta_x\n",
    "        x_i += delta_x\n",
    "    return sum_all\n",
    "f  = lambda x: x ** 2\n",
    "calculate_integral(f,0,2,1000000)\n"
   ]
  },
  {
   "cell_type": "markdown",
   "metadata": {},
   "source": [
    "Find the integral of $x^2$ from 0 to 2. Test multiple choice of n: 10, 100, 1000. We know that $ \\int_{0}^{2} x^2 dx = 2\\frac{2}{3}$"
   ]
  },
  {
   "cell_type": "markdown",
   "metadata": {},
   "source": [
    "## Compound Interest Calculation\n",
    "\n",
    "Write a function to calculate compound Interest, compounded monthly. And test your function.\n",
    "\n",
    "Input:\n",
    "\n",
    "Initial investment in dollar $P$\n",
    "\n",
    "Yearly interest rate $r$\n",
    "\n",
    "Time length in year $t$\n",
    "\n",
    "Formular:\n",
    "return $P(1 + \\frac{r}{12} )^{(12 \\times t)}$"
   ]
  },
  {
   "cell_type": "code",
   "execution_count": 40,
   "metadata": {},
   "outputs": [
    {
     "data": {
      "text/plain": [
       "156.39438187272836"
      ]
     },
     "execution_count": 40,
     "metadata": {},
     "output_type": "execute_result"
    }
   ],
   "source": [
    "def calculateInterest( P, r, t ):\n",
    "    return P*(1+(r/12))**(12*t)\n",
    "calculateInterest(100,0.15,3)"
   ]
  },
  {
   "cell_type": "markdown",
   "metadata": {},
   "source": [
    "## Mortgage Calculator"
   ]
  },
  {
   "cell_type": "markdown",
   "metadata": {},
   "source": [
    "Write a function to calculate monthly Mortgage and outstanding Loan Balance with inputs:\n",
    "\n",
    "Principle $P$\n",
    "\n",
    "Yearly interest rate $r$\n",
    "\n",
    "Number of years $t$\n",
    "\n",
    "Number of month passed $m$\n",
    "\n",
    "Number of periods in one year $n=12$\n",
    "\n",
    "Fixed Periodic Payment Calculation:\n",
    "$ [ \\frac{ P\\times(\\frac{r}{n})\\times ( 1+\\frac{r}{n} )^{n\\times t} }{( 1 + \\frac{r}{n} )^{n\\times t}-1} ] $\n",
    "\n",
    "Outstanding Loan Balance Calculation:\n",
    "$ [ \\frac{ P\\times [( 1+\\frac{r}{n} )^{n\\times t} - ( 1+\\frac{r}{n} )^{ m}] }{( 1 + \\frac{r}{n} )^{n\\times t}-1} ] $\n",
    "\n",
    "\n",
    "Write a program to list out all the monthly payment and remaining balance for a 20 year, 5% yearly interest rate, 1000000 principle mortgage."
   ]
  },
  {
   "cell_type": "code",
   "execution_count": 41,
   "metadata": {},
   "outputs": [
    {
     "name": "stdout",
     "output_type": "stream",
     "text": [
      "1590493.3315121476\n",
      "1583893.1877933159\n"
     ]
    }
   ],
   "source": [
    "from tkinter import INSERT\n",
    "from xml.dom import WrongDocumentErr\n",
    "\n",
    "\n",
    "def fixedPayment( P, r, t ):\n",
    "    return (P*((1+r/12)*(1+r/12)**(12*t)))/(((1+r/12)**(12*t))-1)\n",
    "a = fixedPayment(1000000,0.05,20)\n",
    "print(a)\n",
    "def remainBalance( P, r, t, m ):\n",
    "    if m > 12:\n",
    "        return 'wrong'\n",
    "    else:\n",
    "        return ((P*(1+r/12)**(12*t))-(1+r/12)**m)/((1+r/12)**(12*t)-1)\n",
    "b = remainBalance(1000000,0.05,20,1)\n",
    "print(b)"
   ]
  },
  {
   "cell_type": "markdown",
   "metadata": {},
   "source": [
    "# Recursive Functions"
   ]
  },
  {
   "cell_type": "markdown",
   "metadata": {},
   "source": [
    "Write a recursive function to calculate sum of first n natural numbers."
   ]
  },
  {
   "cell_type": "code",
   "execution_count": 42,
   "metadata": {},
   "outputs": [
    {
     "data": {
      "text/plain": [
       "5050"
      ]
     },
     "execution_count": 42,
     "metadata": {},
     "output_type": "execute_result"
    }
   ],
   "source": [
    "def sum_natural_numbers(n):\n",
    "    sum_all = 0\n",
    "    while n != 0:\n",
    "        sum_all += n\n",
    "        n -= 1\n",
    "    return sum_all\n",
    "sum_natural_numbers(100)\n"
   ]
  },
  {
   "cell_type": "markdown",
   "metadata": {},
   "source": [
    "# Recursive Bubble Sort"
   ]
  },
  {
   "cell_type": "markdown",
   "metadata": {},
   "source": [
    "Bubble Sort is the simplest sorting algorithm that works by repeatedly swapping the adjacent elements if they are in wrong order.\n",
    "\n",
    "Example: \n",
    "\n",
    "First Pass: \n",
    "\n",
    "( 5 1 4 2 8 ) –> ( 1 5 4 2 8 ), Here, algorithm compares the first two elements, and swaps since 5 > 1. \n",
    "\n",
    "( 1 5 4 2 8 ) –> ( 1 4 5 2 8 ), Swap since 5 > 4 \n",
    "\n",
    "( 1 4 5 2 8 ) –> ( 1 4 2 5 8 ), Swap since 5 > 2 \n",
    "\n",
    "( 1 4 2 5 8 ) –> ( 1 4 2 5 8 ), Now, since these elements are already in order (8 > 5), algorithm does not swap them.\n",
    "\n",
    "Second Pass: \n",
    "\n",
    "( 1 4 2 5 8 ) –> ( 1 4 2 5 8 ) \n",
    "\n",
    "( 1 4 2 5 8 ) –> ( 1 2 4 5 8 ), Swap since 4 > 2 \n",
    "\n",
    "( 1 2 4 5 8 ) –> ( 1 2 4 5 8 ) \n",
    "\n",
    "( 1 2 4 5 8 ) –> ( 1 2 4 5 8 ) \n",
    "\n",
    "Now, the array is already sorted, but our algorithm does not know if it is completed. The algorithm needs one whole pass without any swap to know it is sorted.\n",
    "\n",
    "Third Pass: \n",
    "\n",
    "( 1 2 4 5 8 ) –> ( 1 2 4 5 8 ) \n",
    "\n",
    "( 1 2 4 5 8 ) –> ( 1 2 4 5 8 ) \n",
    "\n",
    "( 1 2 4 5 8 ) –> ( 1 2 4 5 8 ) \n",
    "\n",
    "( 1 2 4 5 8 ) –> ( 1 2 4 5 8 )\n",
    "\n",
    "If we take a closer look at Bubble Sort algorithm, we can notice that in first pass, we move largest element to end (Assuming sorting in increasing order). In second pass, we move second largest element to second last position and so on. \n",
    "\n",
    "##### Recursion Idea.  \n",
    "\n",
    "Base Case: If array size is 1, return.\n",
    "\n",
    "Do One Pass of normal Bubble Sort. This pass fixes last element of current subarray.\n",
    "\n",
    "Recur for all elements except last of current subarray."
   ]
  },
  {
   "cell_type": "markdown",
   "metadata": {},
   "source": [
    "sample input: [ 5,1,4,2,8 ]\n",
    "\n",
    "sample output: [ 1,2,4,5,8 ]\n"
   ]
  },
  {
   "cell_type": "code",
   "execution_count": 43,
   "metadata": {},
   "outputs": [
    {
     "data": {
      "text/plain": [
       "[1, 2, 4, 5, 8]"
      ]
     },
     "execution_count": 43,
     "metadata": {},
     "output_type": "execute_result"
    }
   ],
   "source": [
    "def Bublesort(sample):\n",
    "    for i in range(0,len(sample)-1):\n",
    "        for g in range(i+1,len(sample)):\n",
    "            if sample[i] > sample[g]:\n",
    "                sample[i],sample[g] = sample[g],sample[i]\n",
    "            else:\n",
    "                continue\n",
    "    return sample\n",
    "Bublesort([5,1,4,2,8])"
   ]
  },
  {
   "cell_type": "markdown",
   "metadata": {},
   "source": [
    "# Check if a number is Palindrome"
   ]
  },
  {
   "cell_type": "markdown",
   "metadata": {},
   "source": [
    "Given an integer, write a function that returns true if the given number is palindrome, else false. For example, 12321 is palindrome, but 1451 is not palindrome.\n",
    "\n",
    "Let the given number be num. A simple method for this problem is to first reverse digits of num, then compare the reverse of num with num. If both are same, then return true, else false.\n",
    "\n",
    "sample input: 12321\n",
    "\n",
    "sample output: True\n",
    "\n",
    "sample input: 1451\n",
    "\n",
    "sample output: False"
   ]
  },
  {
   "cell_type": "code",
   "execution_count": 44,
   "metadata": {},
   "outputs": [
    {
     "name": "stdout",
     "output_type": "stream",
     "text": [
      "True\n"
     ]
    }
   ],
   "source": [
    "def Palindrome(num):\n",
    "    num = str(num)\n",
    "    num = list(num)\n",
    "    num_o = num[::-1]\n",
    "    if num ==num_o:\n",
    "        print('True')\n",
    "    else:\n",
    "        print('False')\n",
    "Palindrome(12321)"
   ]
  },
  {
   "cell_type": "markdown",
   "metadata": {},
   "source": [
    "# Loops"
   ]
  },
  {
   "cell_type": "markdown",
   "metadata": {},
   "source": [
    "Write a python program to convert an integer into binary string.\n",
    "\n",
    "Sample Input: 7,\n",
    "Sample Output: \"111\"\n",
    "\n",
    "Sample Input: 8,\n",
    "Sample Output: \"1000\""
   ]
  },
  {
   "cell_type": "code",
   "execution_count": 45,
   "metadata": {},
   "outputs": [
    {
     "name": "stdout",
     "output_type": "stream",
     "text": [
      "111\n",
      "1000\n"
     ]
    }
   ],
   "source": [
    "b = []\n",
    "def iib(num):\n",
    "    if num <=1:\n",
    "        c = []\n",
    "        b.append(int(num%2))\n",
    "        for i in range(0,len(b)):\n",
    "            c.append(str(b[::-1][i]))\n",
    "        return ''.join(c)\n",
    "    if num%2 == 1:\n",
    "        b.append(1)\n",
    "        return iib((num-1)/2)\n",
    "    elif num%2 == 0:\n",
    "        b.append(0)\n",
    "        return iib(num/2)\n",
    "print(iib(7))\n",
    "b =[]\n",
    "print(iib(8))\n"
   ]
  },
  {
   "cell_type": "code",
   "execution_count": 46,
   "metadata": {},
   "outputs": [
    {
     "data": {
      "text/plain": [
       "'1000'"
      ]
     },
     "execution_count": 46,
     "metadata": {},
     "output_type": "execute_result"
    }
   ],
   "source": [
    "bin(8)[2:]"
   ]
  },
  {
   "cell_type": "markdown",
   "metadata": {},
   "source": [
    "# Area of a Triangle"
   ]
  },
  {
   "cell_type": "markdown",
   "metadata": {},
   "source": [
    "Given the coordinates of 3 vertices from 2 dimensional Euclidean Plane, write a python function to output the area of the triangle given by the 3 vertices. If 3 vertices are all on one straight line, return 0.\n",
    "\n",
    "Sample Input: [(0,4),(3,0),(0,0)],\n",
    "Sample Output: 6\n",
    "\n",
    "Sample Input: [(0,1),(0,2),(0,0)],\n",
    "Sample Output: 0"
   ]
  },
  {
   "cell_type": "code",
   "execution_count": 47,
   "metadata": {},
   "outputs": [
    {
     "name": "stdout",
     "output_type": "stream",
     "text": [
      "6.0 0\n"
     ]
    }
   ],
   "source": [
    "def triangle(coordinates):\n",
    "    if coordinates[0][0] == coordinates[1][0] == coordinates[2][0] ==0:\n",
    "        return 0\n",
    "    else: \n",
    "        l = ((coordinates[0][0]-coordinates[1][0])**2 + (coordinates[0][1]-coordinates[1][1])**2)**(1/2)\n",
    "        k = ((coordinates[0][1]-coordinates[1][1])/(coordinates[0][0]-coordinates[1][0]))\n",
    "        d = abs(k*coordinates[2][0]-coordinates[2][1]+(coordinates[0][1]-k*coordinates[0][0]))/(k**2+1)**(1/2)\n",
    "        s = l*d*(1/2)\n",
    "        return s\n",
    "s1 = triangle([(0,4),(3,0),(0,0)])\n",
    "s2 = triangle([(0,1),(0,2),(0,0)])\n",
    "print(s1,s2)"
   ]
  },
  {
   "cell_type": "markdown",
   "metadata": {},
   "source": [
    "# Pascal Triangle (杨辉三角) generator"
   ]
  },
  {
   "cell_type": "markdown",
   "metadata": {},
   "source": [
    "Write a python program to output a pascal trianlge with input row number N."
   ]
  },
  {
   "cell_type": "markdown",
   "metadata": {},
   "source": [
    "Input: N = 5\n",
    "\n",
    "Output:\n",
    "\n",
    "        1\n",
    "       1 1\n",
    "      1 2 1\n",
    "     1 3 3 1\n",
    "    1 4 6 4 1"
   ]
  },
  {
   "cell_type": "code",
   "execution_count": 48,
   "metadata": {},
   "outputs": [
    {
     "name": "stdout",
     "output_type": "stream",
     "text": [
      "        [1]         \n",
      "       [1, 1]       \n",
      "     [1, 2, 1]      \n",
      "    [1, 3, 3, 1]    \n",
      "  [1, 4, 6, 4, 1]   \n"
     ]
    }
   ],
   "source": [
    "def pascal_triangle(num):\n",
    "    a = []\n",
    "    for i in range(num):\n",
    "        a.append([1]*(i+1))\n",
    "        for g in range(1,i):\n",
    "            a[i][g] = a[i-1][g-1]+a[i-1][g]\n",
    "    for j in range(0,len(a)):\n",
    "        b = str(a[j]).center(20,' ')\n",
    "        print(b)\n",
    "pascal_triangle(5)\n",
    "\n"
   ]
  },
  {
   "cell_type": "markdown",
   "metadata": {},
   "source": [
    "# Sudoku (数独) Solver"
   ]
  },
  {
   "cell_type": "markdown",
   "metadata": {},
   "source": [
    "Sudoku is a popular puzzle game that is based on the logical placement of numbers. It doesn’t require any special mathematics skills or calculations. Let’s look at an example below from Wikipedia."
   ]
  },
  {
   "cell_type": "code",
   "execution_count": null,
   "metadata": {},
   "outputs": [],
   "source": []
  },
  {
   "cell_type": "markdown",
   "metadata": {},
   "source": [
    "It is a 9x9 grid puzzle (81 squares). At the beginning of the game, some squares are filled with digits, while most of them are empty. The goal of Sudoku is to fill those empty squares with digits so that each row, column, and 3×3 section contains numbers between 1 to 9. The players need to use logic to fill in the missing digits and complete the grid so that all the constraints and rules are satisfied. A move is incorrect if:\n",
    "\n",
    "* Any row contains more than one of the same digit from 1 to 9.\n",
    "* Any column contains more than one of the same digit from 1 to 9.\n",
    "* Any 3×3 grid contains more than one of the same digit from 1 to 9."
   ]
  },
  {
   "cell_type": "markdown",
   "metadata": {},
   "source": [
    "Sample Input:"
   ]
  },
  {
   "cell_type": "code",
   "execution_count": 49,
   "metadata": {},
   "outputs": [],
   "source": [
    "puzzleToSolve =  [[5, 3, 0, 0, 7, 0, 0, 0, 0],\n",
    "                  [6, 0, 0, 1, 9, 5, 0, 0, 0],\n",
    "                  [0, 9, 8, 0, 0, 0, 0, 6, 0],\n",
    "                  [8, 0, 0, 0, 6, 0, 0, 0, 3],\n",
    "                  [4, 0, 0, 8, 0, 3, 0, 0, 1],\n",
    "                  [7, 0, 0, 0, 2, 0, 0, 0, 6],\n",
    "                  [0, 6, 0, 0, 0, 0, 2, 8, 0],\n",
    "                  [0, 0, 0, 4, 1, 9, 0, 0, 5],\n",
    "                  [0, 0, 0, 0, 8, 0, 0, 7, 9]]"
   ]
  },
  {
   "cell_type": "markdown",
   "metadata": {},
   "source": [
    "#### A function to draw the input"
   ]
  },
  {
   "cell_type": "code",
   "execution_count": 50,
   "metadata": {},
   "outputs": [
    {
     "name": "stdout",
     "output_type": "stream",
     "text": [
      "Sudoku Problem\n",
      "+-------+-------+-------+\n",
      "| 5 3   |   7   |       |\n",
      "| 6     | 1 9 5 |       |\n",
      "|   9 8 |       |   6   |\n",
      "+-------+-------+-------+\n",
      "| 8     |   6   |     3 |\n",
      "| 4     | 8   3 |     1 |\n",
      "| 7     |   2   |     6 |\n",
      "+-------+-------+-------+\n",
      "|   6   |       | 2 8   |\n",
      "|       | 4 1 9 |     5 |\n",
      "|       |   8   |   7 9 |\n",
      "+-------+-------+-------+\n",
      "530070000600195000098000060800060003400803001700020006060000280000419005000080079\n"
     ]
    }
   ],
   "source": [
    "def draw(puzzle):\n",
    "    for r in range(len(puzzle)):\n",
    "        if r == 0 or r == 3 or r == 6:\n",
    "            print(\"+-------+-------+-------+\")\n",
    "        for c in range(len(puzzle[r])):\n",
    "            if c == 0 or c == 3 or c ==6:\n",
    "                print(\"| \", end = \"\")\n",
    "            if puzzle[r][c] != 0:\n",
    "                print(puzzle[r][c], end = \" \")\n",
    "            else:\n",
    "                print(end = \"  \")\n",
    "            if c == 8:\n",
    "                print(\"|\")\n",
    "    print(\"+-------+-------+-------+\")\n",
    "    \n",
    "s = ''.join(map(str,[''.join(map(str, i)) for i in puzzleToSolve]))\n",
    "\n",
    "print(\"Sudoku Problem\")\n",
    "draw(puzzleToSolve)\n",
    "print(s)"
   ]
  },
  {
   "cell_type": "markdown",
   "metadata": {},
   "source": [
    "Afterward, we can create the Sudoku Solver by following this three-step recursive procedure:\n",
    "\n",
    "* Find the location of the first 0, denoted by i (i=0 means the first number, i=1 means the second, …, and i=80 means the last one .) If no 0 is found, a solution is found.\n",
    "* For location i, scan elements in the same row, same column, and same block. This step is to find all the digits for which location i cannot be filled.\n",
    "* Let location i try every possible value, one by one, and for each choice, repeat these three steps (until no 0 is found in step 1). Every possible value = digit from 1 to 9 excluding those digits for which location i cannot be filled."
   ]
  },
  {
   "cell_type": "code",
   "execution_count": 2,
   "metadata": {},
   "outputs": [
    {
     "name": "stdout",
     "output_type": "stream",
     "text": [
      "[5, 3, 4, 6, 7, 8, 9, 1, 2]\n",
      "[6, 7, 2, 1, 9, 5, 3, 4, 8]\n",
      "[1, 9, 8, 3, 4, 2, 5, 6, 7]\n",
      "[8, 5, 9, 7, 6, 1, 4, 2, 3]\n",
      "[4, 2, 6, 8, 5, 3, 7, 9, 1]\n",
      "[7, 1, 3, 9, 2, 4, 8, 5, 6]\n",
      "[9, 6, 1, 5, 3, 7, 2, 8, 4]\n",
      "[2, 8, 7, 4, 1, 9, 6, 3, 5]\n"
     ]
    }
   ],
   "source": [
    "\n",
    "\n",
    "puzzleToSolve =  [[5, 3, 0, 0, 7, 0, 0, 0, 0],\n",
    "                  [6, 0, 0, 1, 9, 5, 0, 0, 0],\n",
    "                  [0, 9, 8, 0, 0, 0, 0, 6, 0],\n",
    "                  [8, 0, 0, 0, 6, 0, 0, 0, 3],\n",
    "                  [4, 0, 0, 8, 0, 3, 0, 0, 1],\n",
    "                  [7, 0, 0, 0, 2, 0, 0, 0, 6],\n",
    "                  [0, 6, 0, 0, 0, 0, 2, 8, 0],\n",
    "                  [0, 0, 0, 4, 1, 9, 0, 0, 5],\n",
    "                  [0, 0, 0, 0, 8, 0, 0, 7, 9]]\n",
    "\n",
    "def first_block(puzzle):\n",
    "    for i in range(0,9):\n",
    "        for j in range(0,9):\n",
    "            if puzzle[i][j] == 0:\n",
    "                return   i,j\n",
    "\n",
    "def second_block(puzzle,x,y):\n",
    "    for y_2 in range(y+1,9):\n",
    "        if puzzle[x][y_2] == 0:\n",
    "            return x,y_2\n",
    "    for x_2 in range(x+1,9):\n",
    "        for y_2 in range(0,9):\n",
    "            if puzzle[x_2][y_2] == 0:\n",
    "                return x_2,y_2\n",
    "    return -1,-1\n",
    "\n",
    "def find_value(puzzle,x,y):\n",
    "    i,j = x//3, y//3\n",
    "    grid = [puzzle[i*3+m][j*3+n] for m in range(3) for n in range(3)]\n",
    "    v = set([x for x in range(1,10)]) - set(grid) - set(puzzle[x]) - set(list(zip(*puzzle))[y])    \n",
    "    return list(v)\n",
    "\n",
    "def run_all(puzzle,x,y):\n",
    "    for value in find_value(puzzle,x,y):\n",
    "        puzzle[x][y] = value\n",
    "        x_2,y_2 = second_block(puzzle,x,y)\n",
    "    \n",
    "        if y_2 == -1:\n",
    "            return True\n",
    "        else:\n",
    "            new = run_all(puzzle,x_2,y_2)\n",
    "            if new == True:\n",
    "                return True\n",
    "            puzzle[x][y] = 0\n",
    "def final(puzzle):\n",
    "    x,y = first_block(puzzle)\n",
    "    run_all(puzzle,x,y)\n",
    "    for i in range(0,8):\n",
    "        print(puzzle[i])\n",
    "\n",
    "final(puzzleToSolve)\n",
    "\n",
    "\n"
   ]
  },
  {
   "cell_type": "markdown",
   "metadata": {},
   "source": [
    "Sample solution drawn:\n",
    "\n",
    "\n",
    "            +-------+-------+-------+\n",
    "            | 5 3 4 | 6 7 8 | 9 1 2 |\n",
    "            | 6 7 2 | 1 9 5 | 3 4 8 |\n",
    "            | 1 9 8 | 3 4 2 | 5 6 7 |\n",
    "            +-------+-------+-------+\n",
    "            | 8 5 9 | 7 6 1 | 4 2 3 |\n",
    "            | 4 2 6 | 8 5 3 | 7 9 1 |\n",
    "            | 7 1 3 | 9 2 4 | 8 5 6 |\n",
    "            +-------+-------+-------+\n",
    "            | 9 6 1 | 5 3 7 | 2 8 4 |\n",
    "            | 2 8 7 | 4 1 9 | 6 3 5 |\n",
    "            | 3 4 5 | 2 8 6 | 1 7 9 |\n",
    "            +-------+-------+-------+"
   ]
  },
  {
   "cell_type": "code",
   "execution_count": 6,
   "metadata": {},
   "outputs": [],
   "source": [
    "# 老师的方法\n",
    "puzzleToSolve =  [[5, 3, 0, 0, 7, 0, 0, 0, 0],\n",
    "                  [6, 0, 0, 1, 9, 5, 0, 0, 0],\n",
    "                  [0, 9, 8, 0, 0, 0, 0, 6, 0],\n",
    "                  [8, 0, 0, 0, 6, 0, 0, 0, 3],\n",
    "                  [4, 0, 0, 8, 0, 3, 0, 0, 1],\n",
    "                  [7, 0, 0, 0, 2, 0, 0, 0, 6],\n",
    "                  [0, 6, 0, 0, 0, 0, 2, 8, 0],\n",
    "                  [0, 0, 0, 4, 1, 9, 0, 0, 5],\n",
    "                  [0, 0, 0, 0, 8, 0, 0, 7, 9]]\n",
    "\n",
    "from copy import deepcopy\n",
    "def checkzero(puzzle):\n",
    "    for ind,row in enumerate(puzzle):\n",
    "        if 0 in row:\n",
    "            return (ind,row.index(0))\n",
    "    return 9\n",
    "\n",
    "def checklocation(puzzle,location):\n",
    "    candidate = set(range(1,9))\n",
    "    rowfilled = []\n",
    "    columufilled = []\n",
    "    blockfilled = []\n",
    "    for i in range(9):\n",
    "        rowfilled.append(puzzle[location[0]][i])\n",
    "        columufilled.append(puzzle[i][location[1]])\n",
    "        blockfilled.append(puzzle[3*int(location[0]/3)+int(i/3)][3*int(location[1]/3)+i%3])\n",
    "    rowfilled = set(rowfilled)\n",
    "    columufilled = set(columufilled)\n",
    "    blockfilled = set(blockfilled)\n",
    "    return candidate.difference(rowfilled).difference(columufilled).difference(blockfilled)\n",
    "\n",
    "def solvesoduku(puzzle,res):\n",
    "    curretloc = checkzero(puzzle)\n",
    "    if curretloc == 9:\n",
    "        res.append(puzzle)\n",
    "        return puzzle\n",
    "    else:\n",
    "        candidate = checklocation(puzzle,curretloc)\n",
    "        for ea in candidate:\n",
    "            tempuzzle =deepcopy(puzzle)\n",
    "            tempuzzle[curretloc[0]][curretloc[1]] = ea\n",
    "            solvesoduku(tempuzzle,res)\n",
    "\n",
    "res = []\n",
    "solvesoduku(puzzleToSolve,res)"
   ]
  },
  {
   "cell_type": "code",
   "execution_count": 2,
   "metadata": {},
   "outputs": [
    {
     "data": {
      "text/plain": [
       "196627050475552913618075908526912116283103450944214766927315415537966391196809"
      ]
     },
     "execution_count": 2,
     "metadata": {},
     "output_type": "execute_result"
    }
   ],
   "source": [
    "9**81"
   ]
  },
  {
   "cell_type": "markdown",
   "metadata": {},
   "source": [
    "# Recursive List"
   ]
  },
  {
   "cell_type": "markdown",
   "metadata": {},
   "source": [
    "A nested number list is a list whose elements are either:\n",
    "* a.numbers\n",
    "* nested number lists\n",
    "\n",
    "Our job is to write a function that will sum all of the values in a nested number list."
   ]
  },
  {
   "cell_type": "markdown",
   "metadata": {},
   "source": [
    "Sample Input: \n",
    "    \n",
    "[3, [[100, 7], 90], [1, 13], 8, 6]\n",
    "\n",
    "Sample Output:\n",
    "228"
   ]
  },
  {
   "cell_type": "code",
   "execution_count": 52,
   "metadata": {},
   "outputs": [
    {
     "name": "stdout",
     "output_type": "stream",
     "text": [
      "228\n"
     ]
    }
   ],
   "source": [
    "a = [3, [[100, 7], 90], [1, 13], 8, 6]\n",
    "b = []\n",
    "sum_all = 0\n",
    "def find_all(a,b):\n",
    "    for i in a:\n",
    "        if isinstance(i,list):\n",
    "            find_all(i,b)\n",
    "        else:\n",
    "            b.append(i)\n",
    "\n",
    "find_all(a,b)\n",
    "for j in b:\n",
    "    sum_all += j\n",
    "print(sum_all)\n",
    "\n"
   ]
  },
  {
   "cell_type": "code",
   "execution_count": null,
   "metadata": {},
   "outputs": [],
   "source": []
  },
  {
   "cell_type": "markdown",
   "metadata": {},
   "source": [
    "# Combination Sum"
   ]
  },
  {
   "cell_type": "markdown",
   "metadata": {},
   "source": [
    "Find all valid combinations of k numbers that sum up to n such that the following conditions are true:\n",
    "\n",
    "* Only numbers 1 through 9 are used.\n",
    "* Each number is used at most once.\n",
    "* Return a list of all possible valid combinations. The list must not contain the same combination twice, and the combinations may be returned in any order."
   ]
  },
  {
   "cell_type": "markdown",
   "metadata": {},
   "source": [
    "#### Example 1\n",
    "Input: k = 3, n = 7\n",
    "\n",
    "Output: [[1,2,4]]\n",
    "\n",
    "Explanation:\n",
    "1 + 2 + 4 = 7\n",
    "\n",
    "\n",
    "There are no other valid combinations."
   ]
  },
  {
   "cell_type": "markdown",
   "metadata": {},
   "source": [
    "#### Example 2\n",
    "Input: k = 3, n = 9\n",
    "    \n",
    "Output: [[1,2,6],[1,3,5],[2,3,4]]\n",
    "    \n",
    "Explanation:\n",
    "* 1 + 2 + 6 = 9\n",
    "* 1 + 3 + 5 = 9\n",
    "* 2 + 3 + 4 = 9\n",
    "\n",
    "There are no other valid combinations."
   ]
  },
  {
   "cell_type": "markdown",
   "metadata": {},
   "source": [
    "#### Example 3\n",
    "\n",
    "Input: k = 4, n = 1\n",
    "\n",
    "Output: []\n",
    "\n",
    "Explanation: There are no valid combinations.\n",
    "\n",
    "Using 4 different numbers in the range [1,9], the smallest sum we can get is 1+2+3+4 = 10 and since 10 > 1, there are no valid combination."
   ]
  },
  {
   "cell_type": "code",
   "execution_count": 53,
   "metadata": {},
   "outputs": [],
   "source": [
    "def yinshu(k,n): \n",
    "    a = []\n",
    "    for i,j,l in range(1,9):\n",
    "        a.append([i,j,l])\n"
   ]
  },
  {
   "cell_type": "code",
   "execution_count": 1,
   "metadata": {},
   "outputs": [
    {
     "data": {
      "text/plain": [
       "[[1, 3, 5], [2, 3, 4], [1, 2, 6]]"
      ]
     },
     "execution_count": 1,
     "metadata": {},
     "output_type": "execute_result"
    }
   ],
   "source": [
    "def F(n):\n",
    "    a = []\n",
    "    b = []\n",
    "    c = []\n",
    "    d = []\n",
    "    e = []\n",
    "    f = []\n",
    "    if n >= 10:\n",
    "        return 'wrong'\n",
    "    for i in range(1,10):\n",
    "        a.append([i])\n",
    "        b.append([i])\n",
    "        c.append([i])\n",
    "    for i in a:\n",
    "        for j in b:\n",
    "            for m in c:\n",
    "                p = [i[0],j[0],m[0]]\n",
    "                d.append(p)\n",
    "    for m in d:\n",
    "        w = m[0]+m[1]+m[2]\n",
    "        if w == n and m[0]!=m[1] and m[0]!=m[2] and m[1]!=m[2]:\n",
    "            e.append(m)\n",
    "    def Bublesort(sample):\n",
    "        for i in range(0,len(sample)-1):\n",
    "            for g in range(i+1,len(sample)):\n",
    "                if sample[i] > sample[g]:\n",
    "                    sample[i],sample[g] = sample[g],sample[i]\n",
    "                else:\n",
    "                    continue\n",
    "        return sample\n",
    "    for t in e:\n",
    "        r = Bublesort(t)\n",
    "        f.append(r)\n",
    "    new_list = [list(t) for t in set(tuple(o) for o in f)]\n",
    "    return new_list\n",
    "F(9)\n"
   ]
  },
  {
   "cell_type": "code",
   "execution_count": null,
   "metadata": {},
   "outputs": [],
   "source": []
  }
 ],
 "metadata": {
  "kernelspec": {
   "display_name": "Python 3.9.13 ('base')",
   "language": "python",
   "name": "python3"
  },
  "language_info": {
   "codemirror_mode": {
    "name": "ipython",
    "version": 3
   },
   "file_extension": ".py",
   "mimetype": "text/x-python",
   "name": "python",
   "nbconvert_exporter": "python",
   "pygments_lexer": "ipython3",
   "version": "3.9.13"
  },
  "vscode": {
   "interpreter": {
    "hash": "5179d32cf6ec497baf3f8a3ef987cc77c5d2dc691fdde20a56316522f61a7323"
   }
  }
 },
 "nbformat": 4,
 "nbformat_minor": 4
}
