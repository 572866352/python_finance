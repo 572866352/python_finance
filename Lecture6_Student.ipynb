{
 "cells": [
  {
   "cell_type": "markdown",
   "metadata": {},
   "source": [
    "# FINTECH Lecture 6"
   ]
  },
  {
   "cell_type": "markdown",
   "metadata": {},
   "source": [
    "# Class"
   ]
  },
  {
   "cell_type": "code",
   "execution_count": 4,
   "metadata": {},
   "outputs": [
    {
     "data": {
      "text/plain": [
       "25"
      ]
     },
     "execution_count": 4,
     "metadata": {},
     "output_type": "execute_result"
    }
   ],
   "source": [
    "class Foo:\n",
    "    def __init__(self, val):\n",
    "        self.val = val\n",
    "        \n",
    "    def printVal(self): #instance  method\n",
    "        print(self.val+2)\n",
    "\n",
    "obj = Foo(25)\n",
    "obj.val"
   ]
  },
  {
   "cell_type": "markdown",
   "metadata": {},
   "source": [
    "## Instance Variable"
   ]
  },
  {
   "cell_type": "code",
   "execution_count": null,
   "metadata": {},
   "outputs": [],
   "source": [
    "class Circle:\n",
    "    def __init__( self, r ):\n",
    "        self.r = r"
   ]
  },
  {
   "cell_type": "markdown",
   "metadata": {},
   "source": [
    "# Instance Method"
   ]
  },
  {
   "cell_type": "code",
   "execution_count": 6,
   "metadata": {},
   "outputs": [
    {
     "data": {
      "text/plain": [
       "25.132741228718345"
      ]
     },
     "execution_count": 6,
     "metadata": {},
     "output_type": "execute_result"
    }
   ],
   "source": [
    "import math\n",
    "from turtle import circle\n",
    "class Circle:\n",
    "    def __init__( self, r ):\n",
    "        self.r = r\n",
    "        \n",
    "    def getArea( self ):\n",
    "        return math.pi * self.r ** 2\n",
    "    def getcircumstance(self):\n",
    "        return math.pi * self.r * 2\n",
    "obj_b = Circle(4)\n",
    "obj_b.getArea()\n",
    "obj_b.getcircumstance()"
   ]
  },
  {
   "cell_type": "markdown",
   "metadata": {},
   "source": [
    "# In class practice\n",
    "\n",
    "Write a instance method for Circle class to return the circumstance."
   ]
  },
  {
   "cell_type": "code",
   "execution_count": null,
   "metadata": {},
   "outputs": [],
   "source": []
  },
  {
   "cell_type": "code",
   "execution_count": null,
   "metadata": {},
   "outputs": [],
   "source": []
  },
  {
   "cell_type": "markdown",
   "metadata": {},
   "source": [
    "# In class practice\n",
    "\n",
    "Create a new class called \"Point\", take x and y cordinates as input. "
   ]
  },
  {
   "cell_type": "code",
   "execution_count": null,
   "metadata": {},
   "outputs": [],
   "source": [
    "# class Point:\n",
    "#     def __init__( self, x, y ):\n",
    "#         self.x = x\n",
    "#         self.y = y\n",
    "    "
   ]
  },
  {
   "cell_type": "code",
   "execution_count": 8,
   "metadata": {},
   "outputs": [
    {
     "data": {
      "text/plain": [
       "1.4142135623730951"
      ]
     },
     "execution_count": 8,
     "metadata": {},
     "output_type": "execute_result"
    }
   ],
   "source": [
    "class Point:\n",
    "    def __init__(self,x,y):\n",
    "        self.x = x\n",
    "        self.y = y\n",
    "    def GetDistance(self,anotherpoint):\n",
    "        return ((self.x - anotherpoint.x)**2+ \\\n",
    "            (self.y-anotherpoint.y)**2)**0.5\n",
    "point_a = Point(0,0)\n",
    "point_b =Point(1,1)\n",
    "point_a.GetDistance(point_b)"
   ]
  },
  {
   "cell_type": "markdown",
   "metadata": {},
   "source": [
    "# In class practice\n",
    "\n",
    "Add a instance method \"getDistanceTo\" to \"Point\" class, take another Point object as input, and return the distance between the two points."
   ]
  },
  {
   "cell_type": "code",
   "execution_count": null,
   "metadata": {},
   "outputs": [],
   "source": []
  },
  {
   "cell_type": "markdown",
   "metadata": {},
   "source": [
    "# In class practice\n",
    "\n",
    "Write a instance method for Circle class to check whether a point is in a circle."
   ]
  },
  {
   "cell_type": "code",
   "execution_count": null,
   "metadata": {},
   "outputs": [],
   "source": []
  },
  {
   "cell_type": "markdown",
   "metadata": {},
   "source": [
    "# Class Variable"
   ]
  },
  {
   "cell_type": "code",
   "execution_count": 3,
   "metadata": {},
   "outputs": [],
   "source": [
    "import math\n",
    "class Circle:\n",
    "    \n",
    "    PI = math.pi # class variable\n",
    "    \n",
    "    def __init__( self, r, x, y ):\n",
    "        self.r = r\n",
    "        self.x = x\n",
    "        self.y = y\n",
    "        \n",
    "    def getArea( self ):\n",
    "        return Circle.PI * self.r ** 2\n",
    "    \n",
    "    def getPi(): #class method\n",
    "        return Circle.PI\n",
    "\n",
    "circe = Circle(2,0,0)"
   ]
  },
  {
   "cell_type": "markdown",
   "metadata": {},
   "source": [
    "# Class Method"
   ]
  },
  {
   "cell_type": "code",
   "execution_count": null,
   "metadata": {},
   "outputs": [],
   "source": []
  },
  {
   "cell_type": "markdown",
   "metadata": {},
   "source": [
    "# In class practice"
   ]
  },
  {
   "cell_type": "markdown",
   "metadata": {},
   "source": [
    "Follow the steps:\n",
    "\n",
    "Create a class, Triangle. Its \\_\\_init\\_\\_() method should take self, angle1, angle2, and angle3 as arguments. Make sure to set these appropriately in the body of the \\_\\_init\\_\\_()method.\n",
    "\n",
    "Create a variable named number_of_sides and set it equal to 3.\n",
    "\n",
    "Create a method named check_angles. The sum of a triangle's three angles is It should return True if the sum of self.angle1, self.angle2, and self.angle3 is equal 180, and False otherwise.\n",
    "\n",
    "Create a variable named my_triangle and set it equal to a new instance of your Triangle class. Pass it three angles that sum to 180 (e.g. 90, 30, 60).\n",
    "\n",
    "Print out my_triangle.number_of_sides and print out my_triangle.check_angles()"
   ]
  },
  {
   "cell_type": "code",
   "execution_count": null,
   "metadata": {},
   "outputs": [],
   "source": [
    "class Triangle:\n",
    "    number_of_sides = 3\n",
    "    \n",
    "    def __init__( self, angle1, angle2, angle3 ):\n",
    "        self.angle1 = angle1\n",
    "        self.angle2 = angle2\n",
    "        self.angle3 = angle3\n",
    "        \n",
    "    def check_angles( self ):\n",
    "        return self.angle1 + self.angle2 + self.angle3 == 180\n",
    "    \n",
    "    def __str__( self ):\n",
    "        return \"Triangle: {}-{}-{}\".format( self.angle1, self.angle2, self.angle3 )\n",
    "    "
   ]
  },
  {
   "cell_type": "code",
   "execution_count": null,
   "metadata": {},
   "outputs": [],
   "source": []
  },
  {
   "cell_type": "markdown",
   "metadata": {},
   "source": [
    "# Standard Python Class Methods\n",
    "\n",
    "\\_\\_del\\_\\_: Called when an instance is about to be destroyed, which lets you do any clean-up e.g. closing file handles or database connections\n",
    "\n",
    "\\_\\_repr\\_\\_ and \\_\\_str\\_\\_: Both return a string representation of the object, but \\_\\_repr\\_\\_ should return a Python expression that can be used to re-create the object. The more commonly used one is \\_\\_str\\_\\_, which can return anything.\n",
    "\n",
    "\\_\\_cmp\\_\\_: Called to compare the object with another object. Note that this is only used with Python 2.x. In Python 3.x, only rich comparison methods are used. Such as \\_\\_lt\\_\\_.\n",
    "\n",
    "\\_\\_lt\\_\\_, \\_\\_le\\_\\_, \\_\\_eq\\_\\_, \\_\\_ne\\_\\_, \\_\\_gt\\_\\_ and \\_\\_ge\\_\\_: Called to compare the object with another object. These will be called if defined, otherwise Python will fall-back to using \\_\\_cmp\\_\\_.\n",
    "\n",
    "\\_\\_hash\\_\\_: Called to calculate a hash for the object, which is used for placing objects in data structures such as sets and dictionaries.\n",
    "\n",
    "\\_\\_call\\_\\_: Lets an object be \"called\" e.g. so that you can write things like this: obj(arg1,arg2,...)"
   ]
  },
  {
   "cell_type": "code",
   "execution_count": null,
   "metadata": {},
   "outputs": [],
   "source": [
    "class iterexample:\n",
    "    def __init__(self,  x ):\n",
    "        self.x = x\n",
    "        \n",
    "    def __iter__( self ):\n",
    "        for i in self.x:\n",
    "            yield i"
   ]
  },
  {
   "cell_type": "code",
   "execution_count": 4,
   "metadata": {},
   "outputs": [],
   "source": [
    "class Card:\n",
    "    # Define the suits\n",
    "    DIAMONDS = 1\n",
    "    CLUBS = 2\n",
    "    HEARTS = 3\n",
    "    SPADES = 4\n",
    "    SUITS = {\n",
    "        CLUBS: 'Clubs',\n",
    "        HEARTS: 'Hearts',\n",
    "        DIAMONDS: 'Diamonds',\n",
    "        SPADES: 'Spades'\n",
    "    }\n",
    " \n",
    "    # Define the names of special cards\n",
    "    VALUES = {\n",
    "        1: 'Ace',\n",
    "        11: 'Jack',\n",
    "        12: 'Queen',\n",
    "        13: 'King'\n",
    "    }\n",
    " \n",
    "    def __init__(self, suit, value):\n",
    "        # Save the suit and card value\n",
    "        self.suit = suit\n",
    "        self.value = value\n",
    "        \n",
    " \n",
    "    def __lt__(self, other):\n",
    "        # Compare the card with another card\n",
    "        # (return true if we are smaller, false if\n",
    "        # we are larger, 0 if we are the same)\n",
    "        if self.suit < other.suit:\n",
    "            return True\n",
    "        elif self.suit > other.suit:\n",
    "            return False\n",
    " \n",
    "        if self.value < other.value:\n",
    "            return True\n",
    "        elif self.value > other.value:\n",
    "            return False\n",
    " \n",
    "        return 0\n",
    " \n",
    "    def __str__(self):\n",
    "        # Return a string description of ourself\n",
    "        # import pdb; pdb.set_trace()\n",
    "        if self.value in self.VALUES:\n",
    "            buf = self.VALUES[self.value]\n",
    "        else:\n",
    "            buf = str(self.value)\n",
    "        buf = buf + ' of ' + self.SUITS[self.suit]\n",
    "        return buf\n",
    "\n",
    "    def __repr__( self ):\n",
    "        return self.__str__()\n",
    "\n",
    "card = Card(1,3)"
   ]
  },
  {
   "cell_type": "markdown",
   "metadata": {},
   "source": [
    "##  In class Practice Rational Number Class"
   ]
  },
  {
   "cell_type": "code",
   "execution_count": null,
   "metadata": {},
   "outputs": [],
   "source": [
    "class RationalNumber:\n",
    "    \"\"\"\n",
    "    Rational Numbers with support for arthmetic operations.\n",
    "    \"\"\"\n",
    "    def __init__(self, numerator, denominator=1):\n",
    "        common_devisor = self.gcd( numerator, denominator )\n",
    "        self.n = int( numerator/common_devisor )\n",
    "        self.d = int( denominator/common_devisor )\n",
    "\n",
    "    def gcd( self, a, b ):\n",
    "        \"\"\"\n",
    "        look for greatest common devisor\n",
    "        \"\"\"\n",
    "        c = min( [a, b] )\n",
    "        temp = 1\n",
    "        for i in range( 1, c+1 ):\n",
    "            if a%i==0 and b%i==0:\n",
    "                temp = i\n",
    "        return temp        \n",
    "        \n",
    "    def __add__(self, other):\n",
    "        if not isinstance(other, RationalNumber):\n",
    "            other = RationalNumber(other)\n",
    "\n",
    "        n = self.n * other.d + self.d * other.n\n",
    "        d = self.d * other.d\n",
    "        return RationalNumber(n, d)\n",
    "\n",
    "    def __sub__(self, other):\n",
    "        pass\n",
    "\n",
    "    def __mul__(self, other):\n",
    "        pass\n",
    "\n",
    "    def __truediv__(self, other):\n",
    "        pass\n",
    "\n",
    "    def __str__(self):\n",
    "        return \"{:d}/{:d}\".format(self.n, self.d) if self.d not in \\\n",
    "        [1,-1] else \"{:d}\".format(int(self.n/self.d))\n",
    "    \n",
    "    def __repr__(self):\n",
    "        return \"{:d}/{:d}\".format(self.n, self.d) if self.d not in \\\n",
    "        [1,-1] else \"{:d}\".format(int(self.n/self.d))"
   ]
  },
  {
   "cell_type": "markdown",
   "metadata": {},
   "source": [
    "# Inheritance"
   ]
  },
  {
   "cell_type": "code",
   "execution_count": 8,
   "metadata": {},
   "outputs": [
    {
     "data": {
      "text/plain": [
       "50"
      ]
     },
     "execution_count": 8,
     "metadata": {},
     "output_type": "execute_result"
    }
   ],
   "source": [
    "class BankAccount:\n",
    "    def __init__(self):\n",
    "        self.balance = 0\n",
    "\n",
    "    def withdraw(self, amount):\n",
    "        self.balance -= amount\n",
    "        return self.balance\n",
    "\n",
    "    def deposit(self, amount):\n",
    "        self.balance += amount\n",
    "        return self.balance\n",
    "    \n",
    "a = BankAccount()\n",
    "a.balance\n",
    "a.deposit(100)\n",
    "a.withdraw(50)"
   ]
  },
  {
   "cell_type": "code",
   "execution_count": 11,
   "metadata": {},
   "outputs": [
    {
     "data": {
      "text/plain": [
       "40"
      ]
     },
     "execution_count": 11,
     "metadata": {},
     "output_type": "execute_result"
    }
   ],
   "source": [
    "class MinimumBalanceAccount(BankAccount):\n",
    "    def __init__(self, minimum_balance):\n",
    "        BankAccount.__init__(self) #super\n",
    "        #self.balance = 0\n",
    "        self.minimum_balance = minimum_balance\n",
    "\n",
    "    def withdraw(self, amount):\n",
    "        if self.balance - amount < self.minimum_balance:\n",
    "            print('Sorry, minimum balance must be maintained.')\n",
    "        else:\n",
    "            return BankAccount.withdraw(self, amount)\n",
    "\n",
    "b = MinimumBalanceAccount(0)\n",
    "b.deposit(50)\n",
    "b.withdraw(10)"
   ]
  },
  {
   "cell_type": "markdown",
   "metadata": {},
   "source": [
    "# In class practice"
   ]
  },
  {
   "cell_type": "code",
   "execution_count": 12,
   "metadata": {},
   "outputs": [
    {
     "name": "stdout",
     "output_type": "stream",
     "text": [
      "A B\n",
      "A B\n"
     ]
    }
   ],
   "source": [
    "class A:\n",
    "    def f(self):\n",
    "        return self.g()\n",
    "\n",
    "    def g(self):\n",
    "        return 'A'\n",
    "\n",
    "class B(A):\n",
    "    def g(self):\n",
    "        return 'B'\n",
    "\n",
    "a = A()\n",
    "b = B()\n",
    "# 优先使用自己的\n",
    "print(a.f(), b.f())\n",
    "print(a.g(), b.g())"
   ]
  },
  {
   "cell_type": "markdown",
   "metadata": {},
   "source": [
    "# In class practice\n",
    "\n",
    "Create a class called rectangle, with two edge length as initialization input. Add a instance method called area to get the area of the rectangle.\n",
    "\n",
    "Create an another class called square, inherit from rectangle, with one edge length as initialization input."
   ]
  },
  {
   "cell_type": "code",
   "execution_count": null,
   "metadata": {},
   "outputs": [],
   "source": []
  }
 ],
 "metadata": {
  "kernelspec": {
   "display_name": "Python 3.9.13 ('base')",
   "language": "python",
   "name": "python3"
  },
  "language_info": {
   "codemirror_mode": {
    "name": "ipython",
    "version": 3
   },
   "file_extension": ".py",
   "mimetype": "text/x-python",
   "name": "python",
   "nbconvert_exporter": "python",
   "pygments_lexer": "ipython3",
   "version": "3.9.13"
  },
  "vscode": {
   "interpreter": {
    "hash": "5179d32cf6ec497baf3f8a3ef987cc77c5d2dc691fdde20a56316522f61a7323"
   }
  }
 },
 "nbformat": 4,
 "nbformat_minor": 4
}
