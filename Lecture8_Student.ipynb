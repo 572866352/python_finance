{
 "cells": [
  {
   "cell_type": "markdown",
   "metadata": {},
   "source": [
    "# FINTECH Lecture 8"
   ]
  },
  {
   "cell_type": "markdown",
   "metadata": {},
   "source": [
    "# numpy"
   ]
  },
  {
   "cell_type": "code",
   "execution_count": 1,
   "metadata": {},
   "outputs": [],
   "source": [
    "import numpy as np"
   ]
  },
  {
   "cell_type": "markdown",
   "metadata": {},
   "source": [
    "# In Class Practice Linear Regression"
   ]
  },
  {
   "cell_type": "markdown",
   "metadata": {},
   "source": [
    "$Y = X\\beta$\n",
    "\n",
    "$\\beta =  (X^TX)^{-1}X^TY$ "
   ]
  },
  {
   "cell_type": "code",
   "execution_count": 2,
   "metadata": {},
   "outputs": [],
   "source": [
    "np.random.seed(5)"
   ]
  },
  {
   "cell_type": "code",
   "execution_count": 3,
   "metadata": {},
   "outputs": [
    {
     "data": {
      "text/plain": [
       "array([[0.22199317, 0.87073231, 0.20671916, 0.91861091, 0.48841119,\n",
       "        0.61174386, 0.76590786, 0.51841799, 0.2968005 , 0.18772123,\n",
       "        0.08074127, 0.7384403 , 0.44130922, 0.15830987, 0.87993703,\n",
       "        0.27408646, 0.41423502, 0.29607993, 0.62878791, 0.57983781],\n",
       "       [0.5999292 , 0.26581912, 0.28468588, 0.25358821, 0.32756395,\n",
       "        0.1441643 , 0.16561286, 0.96393053, 0.96022672, 0.18841466,\n",
       "        0.02430656, 0.20455555, 0.69984361, 0.77951459, 0.02293309,\n",
       "        0.57766286, 0.00164217, 0.51547261, 0.63979518, 0.9856244 ],\n",
       "       [0.2590976 , 0.80249689, 0.87048309, 0.92274961, 0.00221421,\n",
       "        0.46948837, 0.98146874, 0.3989448 , 0.81373248, 0.5464565 ,\n",
       "        0.77085409, 0.48493107, 0.02911156, 0.08652569, 0.11145381,\n",
       "        0.25124511, 0.96491529, 0.63176605, 0.8166602 , 0.566082  ]])"
      ]
     },
     "execution_count": 3,
     "metadata": {},
     "output_type": "execute_result"
    }
   ],
   "source": [
    "sample_inputarray = np.random.rand( 3,20 )\n",
    "sample_inputarray"
   ]
  },
  {
   "cell_type": "code",
   "execution_count": 4,
   "metadata": {},
   "outputs": [
    {
     "data": {
      "text/plain": [
       "array([0.22199317, 0.87073231, 0.20671916, 0.91861091, 0.48841119,\n",
       "       0.61174386, 0.76590786, 0.51841799, 0.2968005 , 0.18772123,\n",
       "       0.08074127, 0.7384403 , 0.44130922, 0.15830987, 0.87993703,\n",
       "       0.27408646, 0.41423502, 0.29607993, 0.62878791, 0.57983781])"
      ]
     },
     "execution_count": 4,
     "metadata": {},
     "output_type": "execute_result"
    }
   ],
   "source": [
    "YT = sample_inputarray[0, :]\n",
    "YT"
   ]
  },
  {
   "cell_type": "code",
   "execution_count": 5,
   "metadata": {},
   "outputs": [
    {
     "data": {
      "text/plain": [
       "array([[0.5999292 , 0.26581912, 0.28468588, 0.25358821, 0.32756395,\n",
       "        0.1441643 , 0.16561286, 0.96393053, 0.96022672, 0.18841466,\n",
       "        0.02430656, 0.20455555, 0.69984361, 0.77951459, 0.02293309,\n",
       "        0.57766286, 0.00164217, 0.51547261, 0.63979518, 0.9856244 ],\n",
       "       [0.2590976 , 0.80249689, 0.87048309, 0.92274961, 0.00221421,\n",
       "        0.46948837, 0.98146874, 0.3989448 , 0.81373248, 0.5464565 ,\n",
       "        0.77085409, 0.48493107, 0.02911156, 0.08652569, 0.11145381,\n",
       "        0.25124511, 0.96491529, 0.63176605, 0.8166602 , 0.566082  ]])"
      ]
     },
     "execution_count": 5,
     "metadata": {},
     "output_type": "execute_result"
    }
   ],
   "source": [
    "sample_inputarray[1:, :]"
   ]
  },
  {
   "cell_type": "code",
   "execution_count": 6,
   "metadata": {},
   "outputs": [
    {
     "data": {
      "text/plain": [
       "array([[1.        , 1.        , 1.        , 1.        , 1.        ,\n",
       "        1.        , 1.        , 1.        , 1.        , 1.        ,\n",
       "        1.        , 1.        , 1.        , 1.        , 1.        ,\n",
       "        1.        , 1.        , 1.        , 1.        , 1.        ],\n",
       "       [0.5999292 , 0.26581912, 0.28468588, 0.25358821, 0.32756395,\n",
       "        0.1441643 , 0.16561286, 0.96393053, 0.96022672, 0.18841466,\n",
       "        0.02430656, 0.20455555, 0.69984361, 0.77951459, 0.02293309,\n",
       "        0.57766286, 0.00164217, 0.51547261, 0.63979518, 0.9856244 ],\n",
       "       [0.2590976 , 0.80249689, 0.87048309, 0.92274961, 0.00221421,\n",
       "        0.46948837, 0.98146874, 0.3989448 , 0.81373248, 0.5464565 ,\n",
       "        0.77085409, 0.48493107, 0.02911156, 0.08652569, 0.11145381,\n",
       "        0.25124511, 0.96491529, 0.63176605, 0.8166602 , 0.566082  ]])"
      ]
     },
     "execution_count": 6,
     "metadata": {},
     "output_type": "execute_result"
    }
   ],
   "source": [
    "XT = np.insert(sample_inputarray[1:,:],0,1,axis=0)\n",
    "XT"
   ]
  },
  {
   "cell_type": "code",
   "execution_count": 7,
   "metadata": {},
   "outputs": [
    {
     "data": {
      "text/plain": [
       "array([ 0.5059354 , -0.16500893,  0.08163346])"
      ]
     },
     "execution_count": 7,
     "metadata": {},
     "output_type": "execute_result"
    }
   ],
   "source": [
    "np.linalg.inv(XT.dot(XT.T)).dot(XT.dot(YT))"
   ]
  },
  {
   "cell_type": "markdown",
   "metadata": {},
   "source": [
    "# Verification"
   ]
  },
  {
   "cell_type": "code",
   "execution_count": null,
   "metadata": {},
   "outputs": [],
   "source": []
  },
  {
   "cell_type": "code",
   "execution_count": null,
   "metadata": {},
   "outputs": [],
   "source": []
  },
  {
   "cell_type": "markdown",
   "metadata": {},
   "source": [
    "# Numpy Random Sampling"
   ]
  },
  {
   "cell_type": "code",
   "execution_count": 8,
   "metadata": {},
   "outputs": [],
   "source": [
    "from pylab import plt, mpl\n",
    "%matplotlib inline\n",
    "import math\n",
    "import numpy as np"
   ]
  },
  {
   "cell_type": "code",
   "execution_count": 9,
   "metadata": {},
   "outputs": [],
   "source": [
    "plt.style.use( \"seaborn\" )\n",
    "mpl.rcParams[ 'font.family' ] = 'serif'"
   ]
  },
  {
   "cell_type": "code",
   "execution_count": 10,
   "metadata": {},
   "outputs": [],
   "source": [
    "np.random.seed( 100 )"
   ]
  },
  {
   "cell_type": "code",
   "execution_count": 11,
   "metadata": {},
   "outputs": [
    {
     "data": {
      "text/plain": [
       "array([0.54340494, 0.27836939, 0.42451759, 0.84477613, 0.00471886,\n",
       "       0.12156912, 0.67074908, 0.82585276, 0.13670659, 0.57509333])"
      ]
     },
     "execution_count": 11,
     "metadata": {},
     "output_type": "execute_result"
    }
   ],
   "source": [
    "# [0,1)均匀分布\n",
    "np.random.rand( 10 )"
   ]
  },
  {
   "cell_type": "code",
   "execution_count": 12,
   "metadata": {},
   "outputs": [
    {
     "data": {
      "text/plain": [
       "array([[0.89132195, 0.20920212, 0.18532822, 0.10837689, 0.21969749],\n",
       "       [0.97862378, 0.81168315, 0.17194101, 0.81622475, 0.27407375],\n",
       "       [0.43170418, 0.94002982, 0.81764938, 0.33611195, 0.17541045],\n",
       "       [0.37283205, 0.00568851, 0.25242635, 0.79566251, 0.01525497],\n",
       "       [0.59884338, 0.60380454, 0.10514769, 0.38194344, 0.03647606]])"
      ]
     },
     "execution_count": 12,
     "metadata": {},
     "output_type": "execute_result"
    }
   ],
   "source": [
    "np.random.rand( 5,5 )"
   ]
  },
  {
   "cell_type": "markdown",
   "metadata": {},
   "source": [
    "# In class practice\n",
    "\n",
    "Generate uniformly distributed random number array with dimension 5,5 between 10 and 20."
   ]
  },
  {
   "cell_type": "code",
   "execution_count": 13,
   "metadata": {},
   "outputs": [
    {
     "data": {
      "text/plain": [
       "array([[18.90411563, 19.80920857, 10.59941989, 18.90545945, 15.76901499],\n",
       "       [17.42479689, 16.30183936, 15.81842192, 10.20439132, 12.10026578],\n",
       "       [15.44684878, 17.69115171, 12.50695229, 12.8589569 , 18.52395088],\n",
       "       [19.75006494, 18.84853293, 13.59507844, 15.98858946, 13.54795612],\n",
       "       [13.40190215, 11.7808099 , 12.37694209, 10.44862282, 15.0543143 ]])"
      ]
     },
     "execution_count": 13,
     "metadata": {},
     "output_type": "execute_result"
    }
   ],
   "source": [
    "def uniform(a,b,size):\n",
    "    return np.random.rand(*size)*(b-a)+a\n",
    "uniform(10,20,(5,5))"
   ]
  },
  {
   "cell_type": "code",
   "execution_count": null,
   "metadata": {},
   "outputs": [],
   "source": []
  },
  {
   "cell_type": "markdown",
   "metadata": {},
   "source": [
    "# Normal random variable"
   ]
  },
  {
   "cell_type": "code",
   "execution_count": 14,
   "metadata": {},
   "outputs": [
    {
     "data": {
      "text/plain": [
       "array([[ 1.29974807, -1.73309562, -0.9833101 ,  0.35750775, -1.6135785 ],\n",
       "       [ 1.47071387, -1.1880176 , -0.54974619, -0.94004616, -0.82793236],\n",
       "       [ 0.10886347,  0.50780959, -0.86222735,  1.24946974, -0.07961125],\n",
       "       [-0.88973148, -0.88179839,  0.01863895,  0.23784462,  0.01354855],\n",
       "       [-1.6355294 , -1.04420988,  0.61303888,  0.73620521,  1.02692144]])"
      ]
     },
     "execution_count": 14,
     "metadata": {},
     "output_type": "execute_result"
    }
   ],
   "source": [
    "# 标准正态分布\n",
    "np.random.randn( 5, 5 )"
   ]
  },
  {
   "cell_type": "code",
   "execution_count": 15,
   "metadata": {},
   "outputs": [
    {
     "data": {
      "text/plain": [
       "1.1236478046256946"
      ]
     },
     "execution_count": 15,
     "metadata": {},
     "output_type": "execute_result"
    }
   ],
   "source": [
    "# 生成10个服从正态分布的随机数求标准差\n",
    "np.random.randn(10).std()"
   ]
  },
  {
   "cell_type": "markdown",
   "metadata": {},
   "source": [
    "# Random integers"
   ]
  },
  {
   "cell_type": "code",
   "execution_count": 16,
   "metadata": {},
   "outputs": [
    {
     "data": {
      "text/plain": [
       "array([29, 28, 42, 48, 22, 36, 25, 39, 46, 22, 23, 34, 42, 33, 40, 21, 34,\n",
       "       39, 21, 40])"
      ]
     },
     "execution_count": 16,
     "metadata": {},
     "output_type": "execute_result"
    }
   ],
   "source": [
    "# (low,high,size) [low,high)\n",
    "np.random.randint( 20, 50, 20 )"
   ]
  },
  {
   "cell_type": "markdown",
   "metadata": {},
   "source": [
    "# sample and choice"
   ]
  },
  {
   "cell_type": "code",
   "execution_count": 17,
   "metadata": {},
   "outputs": [
    {
     "data": {
      "text/plain": [
       "array([0.81740526, 0.0890063 , 0.70148773, 0.38557212, 0.01742254])"
      ]
     },
     "execution_count": 17,
     "metadata": {},
     "output_type": "execute_result"
    }
   ],
   "source": [
    "# [0,1)\n",
    "np.random.sample( size = 5 )"
   ]
  },
  {
   "cell_type": "code",
   "execution_count": 18,
   "metadata": {},
   "outputs": [
    {
     "data": {
      "text/plain": [
       "array([0.05096687, 0.43507174, 0.97684387, 0.09378331, 0.5515195 ])"
      ]
     },
     "execution_count": 18,
     "metadata": {},
     "output_type": "execute_result"
    }
   ],
   "source": [
    "a = np.random.sample( size = 5 )\n",
    "a"
   ]
  },
  {
   "cell_type": "code",
   "execution_count": 19,
   "metadata": {},
   "outputs": [
    {
     "data": {
      "text/plain": [
       "array([0.97684387, 0.09378331, 0.5515195 , 0.97684387, 0.43507174,\n",
       "       0.97684387, 0.43507174, 0.43507174, 0.97684387, 0.5515195 ])"
      ]
     },
     "execution_count": 19,
     "metadata": {},
     "output_type": "execute_result"
    }
   ],
   "source": [
    "# 选十个，不足则重复选\n",
    "np.random.choice( a, 10 )"
   ]
  },
  {
   "cell_type": "code",
   "execution_count": 20,
   "metadata": {},
   "outputs": [
    {
     "data": {
      "text/plain": [
       "array([0.5515195 , 0.05096687, 0.43507174])"
      ]
     },
     "execution_count": 20,
     "metadata": {},
     "output_type": "execute_result"
    }
   ],
   "source": [
    "# 不重复取样\n",
    "np.random.choice( a, 3, replace = False )"
   ]
  },
  {
   "cell_type": "markdown",
   "metadata": {},
   "source": [
    "# Random Numbers and Histogram"
   ]
  },
  {
   "cell_type": "code",
   "execution_count": 21,
   "metadata": {},
   "outputs": [],
   "source": [
    "\n",
    "sample_size = 500\n",
    "# 生成500x3的随机数\n",
    "rn1 = np.random.rand( sample_size, 3 )\n",
    "\n",
    "rn2 = np.random.randint( 0, 10, sample_size )\n",
    "\n",
    "rn3 = np.random.sample( size = sample_size )\n",
    "\n",
    "a = [ i*10 for i in range( 10 ) ]\n",
    "rn4 = np.random.choice( a, size = sample_size )"
   ]
  },
  {
   "cell_type": "code",
   "execution_count": 22,
   "metadata": {},
   "outputs": [
    {
     "data": {
      "text/plain": [
       "Text(0.5, 1.0, 'choice')"
      ]
     },
     "execution_count": 22,
     "metadata": {},
     "output_type": "execute_result"
    },
    {
     "data": {
      "image/png": "[encoded data removed]",
      "text/plain": [
       "<Figure size 1600x300 with 4 Axes>"
      ]
     },
     "metadata": {},
     "output_type": "display_data"
    }
   ],
   "source": [
    "#fig, ( (ax1, ax2), (ax3, ax4) ) = plt.subplots( nrows = 2, ncols = 2,\n",
    "#                                              figsize = ( 10, 6 ))\n",
    "\n",
    "\n",
    "fig, ( (ax1, ax2, ax3, ax4) ) = plt.subplots( nrows = 1, ncols = 4,\n",
    "                                              figsize = ( 16, 3 ))\n",
    "# bins = 多少个格子 stacked = 要不要把变量叠在一起\n",
    "ax1.hist( rn1, bins = 25, stacked = True )\n",
    "# 标题\n",
    "ax1.set_title( 'rand' )\n",
    "# 纵坐标\n",
    "ax1.set_ylabel( 'frequency' )\n",
    "\n",
    "ax2.hist( rn2, bins = 25 )\n",
    "ax2.set_title( 'randint' )\n",
    "#ax2.set_ylabel( 'frequency' )\n",
    "\n",
    "ax3.hist( rn3, bins = 10 )\n",
    "ax3.set_title( 'sample' )\n",
    "ax3.set_ylabel( 'frequency' )\n",
    "\n",
    "ax4.hist( rn4, bins = 25 )\n",
    "ax4.set_title( 'choice' )\n",
    "#ax4.set_ylabel( 'frequency' )"
   ]
  },
  {
   "cell_type": "markdown",
   "metadata": {},
   "source": [
    "# Random Normal"
   ]
  },
  {
   "cell_type": "code",
   "execution_count": 23,
   "metadata": {},
   "outputs": [
    {
     "data": {
      "text/plain": [
       "array([-1.10452309, -0.08629115, -1.01414655, -1.1560878 ,  0.11454601,\n",
       "        0.53642081,  1.01751134,  0.36886548,  1.89262183,  1.2561924 ,\n",
       "        0.09092993, -0.52372958, -1.03649655, -0.85973276,  0.60616341,\n",
       "        1.56659398,  0.22647757, -0.14915824,  0.16673635,  0.26684622,\n",
       "        0.55173884,  1.26201777, -0.7657835 ,  0.71397656, -2.0277059 ,\n",
       "       -1.08746851, -1.14361873, -0.11540861,  0.51819458,  1.27574039,\n",
       "       -0.19040172, -0.12051797, -0.53166419,  0.17204926,  0.67923164,\n",
       "        0.47845275, -2.57645128, -1.16669391,  0.05827031, -0.32965069,\n",
       "        0.53649419,  1.82132632, -1.47414283, -1.32770449, -0.24316017,\n",
       "       -0.71479004, -0.15491902, -0.24569593, -0.38249309, -0.06960446,\n",
       "        0.73039997, -0.65547117, -0.96504398,  1.15609384, -1.66417599,\n",
       "       -0.81203476, -0.04180797, -1.9588793 ,  1.35150935,  0.46135681,\n",
       "       -0.2058012 ,  0.32517914, -0.21444737,  0.38792523,  1.04266923,\n",
       "       -0.12216172,  1.13915844,  0.1544848 ,  1.57448224, -0.20566505,\n",
       "        0.5037786 ,  0.93358613,  0.28671063, -1.12648629,  0.42347575,\n",
       "       -0.61601267, -2.80829655, -1.4273057 , -0.5503635 ,  0.09379565,\n",
       "        1.04568812, -0.16780078,  0.09072457, -0.23995758,  0.52201755,\n",
       "       -0.30151126, -0.1086895 , -0.58158542, -1.08764226, -0.53233191,\n",
       "       -0.12536543, -0.25475318,  0.54916747,  0.81926842,  1.13354911,\n",
       "        0.2650133 , -0.26254781,  1.05572331,  1.79192723,  1.09786508])"
      ]
     },
     "execution_count": 23,
     "metadata": {},
     "output_type": "execute_result"
    }
   ],
   "source": [
    "# (均值，方差，size) 正态分布\n",
    "rn5 = np.random.normal( 0 , 1, 100 )\n",
    "rn5"
   ]
  },
  {
   "cell_type": "code",
   "execution_count": 24,
   "metadata": {},
   "outputs": [
    {
     "data": {
      "text/plain": [
       "Text(0, 0.5, 'frequecy')"
      ]
     },
     "execution_count": 24,
     "metadata": {},
     "output_type": "execute_result"
    },
    {
     "data": {
      "image/png": "[encoded data removed]",
      "text/plain": [
       "<Figure size 400x300 with 1 Axes>"
      ]
     },
     "metadata": {},
     "output_type": "display_data"
    }
   ],
   "source": [
    "plt.figure(figsize=(4,3))\n",
    "plt.hist(rn5,bins=25)\n",
    "plt.title('normal')\n",
    "plt.ylabel('frequecy')"
   ]
  },
  {
   "cell_type": "markdown",
   "metadata": {},
   "source": [
    "# In class practice:\n",
    "\n",
    "Generate i.i.d bernoulli distribution of size 30 with $p=0.5$ (even coin toss). Count the number of ones."
   ]
  },
  {
   "cell_type": "code",
   "execution_count": 25,
   "metadata": {},
   "outputs": [
    {
     "data": {
      "text/plain": [
       "array([0, 0, 0, 1, 1, 1, 1, 0, 0, 1, 0, 0, 0, 0, 1, 1, 0, 0, 1, 1, 0, 1,\n",
       "       1, 0, 0, 1, 1, 0, 0, 1])"
      ]
     },
     "execution_count": 25,
     "metadata": {},
     "output_type": "execute_result"
    }
   ],
   "source": [
    "# 生成伯努利分布0-1分布\n",
    "a = [0,1]\n",
    "np.random.choice(a,30)"
   ]
  },
  {
   "cell_type": "code",
   "execution_count": null,
   "metadata": {},
   "outputs": [],
   "source": []
  },
  {
   "cell_type": "markdown",
   "metadata": {},
   "source": [
    "# In class practice:\n",
    "Generate i.i.d bernoulli distribution of size 30 with $p=0.7$ (uneven coin toss). Count the number of ones."
   ]
  },
  {
   "cell_type": "code",
   "execution_count": 26,
   "metadata": {},
   "outputs": [
    {
     "data": {
      "text/plain": [
       "array([1., 1., 1., 1., 1., 1., 0., 0., 1., 1., 1., 0., 1., 0., 0., 1., 1.,\n",
       "       0., 1., 0., 1., 1., 0., 0., 1., 1., 0., 0., 1., 1.])"
      ]
     },
     "execution_count": 26,
     "metadata": {},
     "output_type": "execute_result"
    }
   ],
   "source": [
    "filp = np.random.rand(30)\n",
    "base = np.ones(30)\n",
    "# 把base的一部分(flip大于0.7的部分)设为0\n",
    "base[filp > 0.7] = 0\n",
    "# base.sum()\n",
    "base"
   ]
  },
  {
   "cell_type": "code",
   "execution_count": 27,
   "metadata": {},
   "outputs": [
    {
     "data": {
      "text/plain": [
       "array([1., 1., 1., 1., 1., 0., 1., 0., 0., 1., 0., 1., 1., 1., 1., 1., 0.,\n",
       "       1., 0., 1., 1., 1., 1., 1., 1., 1., 1., 1., 1., 0., 1., 0., 1., 1.,\n",
       "       1., 0., 1., 1., 1., 0., 1., 1., 0., 1., 0., 0., 0., 0., 1., 1.])"
      ]
     },
     "execution_count": 27,
     "metadata": {},
     "output_type": "execute_result"
    }
   ],
   "source": [
    "def Bernoully(p,size):\n",
    "    filp = np.random.rand(size)\n",
    "    base = np.ones(size)\n",
    "    base[filp > p] = 0\n",
    "    return base\n",
    "\n",
    "F = Bernoully(0.6,50)\n",
    "F\n"
   ]
  },
  {
   "cell_type": "code",
   "execution_count": 28,
   "metadata": {},
   "outputs": [
    {
     "data": {
      "text/plain": [
       "Text(0, 0.5, 'frequecy')"
      ]
     },
     "execution_count": 28,
     "metadata": {},
     "output_type": "execute_result"
    },
    {
     "data": {
      "image/png": "[encoded data removed]",
      "text/plain": [
       "<Figure size 400x300 with 1 Axes>"
      ]
     },
     "metadata": {},
     "output_type": "display_data"
    }
   ],
   "source": [
    "plt.figure(figsize=(4,3))\n",
    "plt.hist(F,bins=5)\n",
    "plt.title('normal')\n",
    "plt.ylabel('frequecy')"
   ]
  },
  {
   "cell_type": "code",
   "execution_count": null,
   "metadata": {},
   "outputs": [],
   "source": []
  },
  {
   "cell_type": "markdown",
   "metadata": {},
   "source": [
    "# In class practice:\n",
    "\n",
    "Pack above algorithm into a function to generate i.i.d bernoulli random variable. Test it with 500 samples, and draw its histogram."
   ]
  },
  {
   "cell_type": "code",
   "execution_count": null,
   "metadata": {},
   "outputs": [],
   "source": []
  },
  {
   "cell_type": "code",
   "execution_count": null,
   "metadata": {},
   "outputs": [],
   "source": []
  },
  {
   "cell_type": "code",
   "execution_count": null,
   "metadata": {},
   "outputs": [],
   "source": []
  },
  {
   "cell_type": "code",
   "execution_count": null,
   "metadata": {},
   "outputs": [],
   "source": []
  },
  {
   "cell_type": "markdown",
   "metadata": {},
   "source": [
    "# In class practice\n",
    "\n",
    "Given $N$ identical coin toss trials with head probability $p$, a Binomial distribution gives the probability of having $n$ head, with $P(n) = { N \\choose n }p^n(1-p)^{N-n}$. \n",
    "\n",
    "It can be generated by np.random.binomial. \n",
    "\n",
    "It can also be generated by utilizing the algorithm desiged above. \n",
    "\n",
    "Use both way to generate random binomial random variable with 500 sample size, $N=30$, and $p=0.6$ and compare their histogram.\n",
    "\n",
    "Example function definition: def binomial( p, N, size ):"
   ]
  },
  {
   "cell_type": "code",
   "execution_count": 29,
   "metadata": {},
   "outputs": [],
   "source": [
    "x_N = 0\n",
    "x_sum = []\n",
    "def Binomial(p,N,size,x_N):\n",
    "    if x_N >= N:\n",
    "        return np.array(x_sum)\n",
    "    else:\n",
    "        filp = np.random.rand(size)\n",
    "        base = np.ones(size)\n",
    "        base[filp > p] = 0\n",
    "        x_sum.append(base.sum())\n",
    "        return Binomial(p,N,size,x_N+1)\n",
    "\n",
    "rn1 = Binomial(0.6,30,5000,0)"
   ]
  },
  {
   "cell_type": "code",
   "execution_count": 30,
   "metadata": {},
   "outputs": [],
   "source": [
    "def Binomial1(p,N,size):\n",
    "    res = [Bernoully(p,N).sum() for i in range(size)]\n",
    "    return np.array(res)\n",
    "\n",
    "rn2 = Binomial1(0.6,30,5000)\n",
    "rn3 = np.random.binomial(30,0.6,5000)"
   ]
  },
  {
   "cell_type": "code",
   "execution_count": null,
   "metadata": {},
   "outputs": [],
   "source": []
  },
  {
   "cell_type": "code",
   "execution_count": null,
   "metadata": {},
   "outputs": [],
   "source": []
  },
  {
   "cell_type": "code",
   "execution_count": null,
   "metadata": {},
   "outputs": [],
   "source": []
  },
  {
   "cell_type": "markdown",
   "metadata": {},
   "source": [
    "# Poisson\n",
    "\n",
    "$f(x) = \\frac{\\lambda^x}{x!}e^{-\\lambda}$"
   ]
  },
  {
   "cell_type": "code",
   "execution_count": 31,
   "metadata": {},
   "outputs": [
    {
     "data": {
      "text/plain": [
       "array([ 5,  2,  3,  4,  3,  5,  8,  3,  4,  5,  4,  2,  1,  7,  6,  6,  8,\n",
       "        6,  5,  4,  8,  8,  5,  1,  5,  8,  6, 10,  5,  6,  4,  3,  4,  4,\n",
       "        4,  4,  7,  3,  2,  2,  3,  8,  8,  6,  2,  8,  9,  5,  4,  5,  9,\n",
       "        6,  7,  9,  4,  5,  3,  3,  4,  2,  5,  5,  4,  9,  3,  1,  5,  7,\n",
       "        4,  5,  8,  4,  3,  3,  5, 12,  3,  4,  4,  3,  9,  6,  2,  6,  7,\n",
       "        4,  7,  2,  4,  2,  5,  3,  5,  4,  6,  3,  1,  5,  1,  8,  5,  6,\n",
       "        6,  7,  6,  8,  5,  6, 10,  4,  5,  1,  1,  3,  6,  6,  3,  7,  2,\n",
       "        5,  5,  4,  7,  7,  5,  4,  6,  2,  6,  7,  6,  5,  6,  6,  8,  2,\n",
       "        9,  6,  2,  5,  4,  2, 10,  6,  5,  2,  3,  7,  5,  6,  4,  3,  7,\n",
       "        3,  8,  3,  8,  5,  4,  4,  9,  7,  6,  1,  7,  5,  2,  4,  5,  2,\n",
       "        8,  6,  6,  4,  6,  8,  1,  8,  3,  2,  6,  3,  2,  5,  7,  5,  6,\n",
       "        4,  5,  2,  5,  4,  5,  4,  5,  4,  2,  2,  7,  2])"
      ]
     },
     "execution_count": 31,
     "metadata": {},
     "output_type": "execute_result"
    }
   ],
   "source": [
    "np.random.poisson( 5, 200 )"
   ]
  },
  {
   "cell_type": "markdown",
   "metadata": {},
   "source": [
    "# Exponential\n",
    "\n",
    "$f(x) = \\lambda e^{-\\lambda x}$"
   ]
  },
  {
   "cell_type": "code",
   "execution_count": 32,
   "metadata": {},
   "outputs": [
    {
     "data": {
      "text/plain": [
       "array([ 3.19909467,  2.36278424,  4.71561065,  1.46447092,  5.79267564,\n",
       "        7.32941397,  0.18115627,  4.3700498 ,  2.60988346,  3.28592822,\n",
       "        8.89955215,  0.92906495,  0.24822289,  5.05603623,  0.16451847,\n",
       "        2.69345954,  1.11138909,  0.35204084,  7.16650593,  5.99026436,\n",
       "        2.14756679,  4.63299119,  6.26531143,  2.0116072 ,  0.68142332,\n",
       "        6.35176661,  0.07799113,  3.90695297,  5.06133855,  5.13264176,\n",
       "        3.69327977,  5.26642598,  7.13039582,  4.61369495,  0.0552208 ,\n",
       "        5.38446854,  1.26090101,  1.97238806,  6.54982386,  3.78247784,\n",
       "        0.75099419,  8.15623792,  0.0513963 ,  1.40142354,  7.73214737,\n",
       "        7.55245792, 12.09822284,  4.20132429,  7.60516529,  0.55433364,\n",
       "       11.25654918, 13.69234274,  0.13764984, 25.09473777,  4.98494875,\n",
       "        1.80609864,  2.87886555,  2.43703974,  0.31559705,  3.42539891,\n",
       "        3.19008397,  1.32735705, 10.52645839,  1.90198817,  1.78168453,\n",
       "        0.9546737 ,  3.46031556,  3.45224388,  3.8201865 ,  6.79720109,\n",
       "        0.85489233,  9.32939001,  9.00545458,  1.85514475,  7.01389604,\n",
       "        8.60699769,  3.06837859, 11.73126771,  8.81998877,  2.49264187,\n",
       "       14.90839276,  8.28840389,  1.39774923,  0.05148393,  0.80631261,\n",
       "        5.66703486,  2.23941083,  1.16866663,  1.42101331,  8.10038424,\n",
       "        5.7918416 ,  1.18376044,  0.03918014,  1.191772  ,  2.47021185,\n",
       "        7.59611661,  4.11273466,  5.04014518,  0.93377556,  9.0861962 ])"
      ]
     },
     "execution_count": 32,
     "metadata": {},
     "output_type": "execute_result"
    }
   ],
   "source": [
    "np.random.exponential( 5, 100 )"
   ]
  },
  {
   "cell_type": "markdown",
   "metadata": {},
   "source": [
    "# Chisquare\n",
    "\n"
   ]
  },
  {
   "cell_type": "code",
   "execution_count": 33,
   "metadata": {},
   "outputs": [
    {
     "data": {
      "text/plain": [
       "array([ 2.26349018,  5.04133964, 12.38137435,  6.41960652,  4.38972396,\n",
       "        3.33916393,  5.6414813 ,  5.8298342 , 12.38182853,  4.51812909,\n",
       "        5.62831333,  5.19646249,  5.65821551,  1.3710489 ,  5.45281921,\n",
       "        5.87093296,  1.59618812,  3.40068297,  7.42142227,  1.61293119])"
      ]
     },
     "execution_count": 33,
     "metadata": {},
     "output_type": "execute_result"
    }
   ],
   "source": [
    "np.random.chisquare( 5, 20 )"
   ]
  },
  {
   "cell_type": "markdown",
   "metadata": {},
   "source": [
    "# In class exercise"
   ]
  },
  {
   "cell_type": "markdown",
   "metadata": {},
   "source": [
    "Generate 4 iid distributions with 500 sample size and plot the histogram of them:\n",
    "\n",
    "1. Standard Normal\n",
    "2. Normal with mean 5 and standard deviation 10\n",
    "3. Poisson with lambda 10\n",
    "4. Exponential with lambda 10"
   ]
  },
  {
   "cell_type": "code",
   "execution_count": null,
   "metadata": {},
   "outputs": [],
   "source": []
  },
  {
   "cell_type": "code",
   "execution_count": null,
   "metadata": {},
   "outputs": [],
   "source": []
  },
  {
   "cell_type": "code",
   "execution_count": null,
   "metadata": {},
   "outputs": [],
   "source": []
  },
  {
   "cell_type": "code",
   "execution_count": null,
   "metadata": {},
   "outputs": [],
   "source": []
  },
  {
   "cell_type": "code",
   "execution_count": null,
   "metadata": {},
   "outputs": [],
   "source": []
  },
  {
   "cell_type": "markdown",
   "metadata": {},
   "source": [
    "# In class exercise\n",
    "\n",
    "Generate the 500 samples of the square of 5 standard normal random variable, and compare the histogram with chisquare."
   ]
  },
  {
   "cell_type": "code",
   "execution_count": null,
   "metadata": {},
   "outputs": [],
   "source": []
  },
  {
   "cell_type": "code",
   "execution_count": null,
   "metadata": {},
   "outputs": [],
   "source": []
  },
  {
   "cell_type": "code",
   "execution_count": null,
   "metadata": {},
   "outputs": [],
   "source": []
  },
  {
   "cell_type": "code",
   "execution_count": null,
   "metadata": {},
   "outputs": [],
   "source": []
  }
 ],
 "metadata": {
  "kernelspec": {
   "display_name": "Python 3.9.13 ('base')",
   "language": "python",
   "name": "python3"
  },
  "language_info": {
   "codemirror_mode": {
    "name": "ipython",
    "version": 3
   },
   "file_extension": ".py",
   "mimetype": "text/x-python",
   "name": "python",
   "nbconvert_exporter": "python",
   "pygments_lexer": "ipython3",
   "version": "3.9.13"
  },
  "vscode": {
   "interpreter": {
    "hash": "5179d32cf6ec497baf3f8a3ef987cc77c5d2dc691fdde20a56316522f61a7323"
   }
  }
 },
 "nbformat": 4,
 "nbformat_minor": 4
}
